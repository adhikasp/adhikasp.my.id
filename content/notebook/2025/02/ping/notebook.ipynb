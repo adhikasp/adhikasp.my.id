{
 "cells": [
  {
   "cell_type": "markdown",
   "metadata": {},
   "source": [
    "First, we define the webiste to ping. This is collection of popular websites + some Indonesian websites."
   ]
  },
  {
   "cell_type": "code",
   "execution_count": 1,
   "metadata": {},
   "outputs": [],
   "source": [
    "websites = [\n",
    "    'google.com',\n",
    "    'facebook.com', \n",
    "    'apple.com',\n",
    "    'amazon.com',\n",
    "    'microsoft.com',\n",
    "    'netflix.com',\n",
    "    'twitter.com',\n",
    "    'instagram.com',\n",
    "    'linkedin.com',\n",
    "    'youtube.com',\n",
    "    'reddit.com',\n",
    "    'wikipedia.org',\n",
    "    'github.com',\n",
    "    'yahoo.com',\n",
    "    'twitch.tv',\n",
    "    'tiktok.com',\n",
    "    'spotify.com',\n",
    "    'whatsapp.com',\n",
    "    'zoom.us',\n",
    "    'discord.com',\n",
    "    'pinterest.com',\n",
    "    'dropbox.com',\n",
    "    'salesforce.com',\n",
    "    'tokopedia.com',\n",
    "    'shopee.co.id',\n",
    "    'zalora.co.id',\n",
    "    'lazada.co.id',\n",
    "    'bukalapak.com',\n",
    "    'blibli.com',\n",
    "    'kompas.com',\n",
    "    'detik.com',\n",
    "    'tribunnews.com',\n",
    "    'cnbcindonesia.com',\n",
    "    'okezone.com',\n",
    "    'liputan6.com',\n",
    "]"
   ]
  },
  {
   "cell_type": "markdown",
   "metadata": {},
   "source": [
    "We then define the function to ping the website. Will use the `ping` command."
   ]
  },
  {
   "cell_type": "code",
   "execution_count": 2,
   "metadata": {},
   "outputs": [],
   "source": [
    "import subprocess\n",
    "\n",
    "def ping_website(website):\n",
    "    try:\n",
    "        result = subprocess.run(['ping', '-c', '10', website], \n",
    "                              capture_output=True, \n",
    "                              text=True,\n",
    "                              timeout=10)\n",
    "        \n",
    "        if result.returncode == 0:\n",
    "            # Get IP address from first line\n",
    "            first_line = result.stdout.split('\\n')[0]\n",
    "            ip_address = first_line.split('(')[1].split(')')[0]\n",
    "            \n",
    "            # Get all ping times\n",
    "            ping_times = []\n",
    "            for line in result.stdout.split('\\n')[1:-5]: # Skip first and last summary lines\n",
    "                if 'bytes from' in line:\n",
    "                    time = float(line.split('time=')[1].split()[0])\n",
    "                    ping_times.append(time)\n",
    "                    \n",
    "            status = 'Success'\n",
    "        else:\n",
    "            ip_address = None\n",
    "            ping_times = []\n",
    "            status = 'Failed'\n",
    "            \n",
    "    except subprocess.TimeoutExpired:\n",
    "        ip_address = None\n",
    "        ping_times = []\n",
    "        status = 'Timeout'\n",
    "    except Exception as e:\n",
    "        ip_address = None\n",
    "        ping_times = []\n",
    "        status = f'Error: {str(e)}'\n",
    "        \n",
    "    return {\n",
    "        'website': website,\n",
    "        'ip_address': ip_address,\n",
    "        'status': status,\n",
    "        'ping_times_ms': ping_times\n",
    "    }"
   ]
  },
  {
   "cell_type": "markdown",
   "metadata": {},
   "source": [
    "Then we ping all websites. Do it in parallel so it don't take much time."
   ]
  },
  {
   "cell_type": "code",
   "execution_count": 3,
   "metadata": {},
   "outputs": [],
   "source": [
    "import pandas as pd\n",
    "import concurrent.futures\n",
    "\n",
    "results = []\n",
    "with concurrent.futures.ThreadPoolExecutor(max_workers=10) as executor:\n",
    "    future_to_website = {executor.submit(ping_website, website): website for website in websites}\n",
    "    for future in concurrent.futures.as_completed(future_to_website):\n",
    "        result = future.result()\n",
    "        results.append(result)\n",
    "\n",
    "df = pd.DataFrame(results)"
   ]
  },
  {
   "cell_type": "markdown",
   "metadata": {},
   "source": [
    "There are some websites that failed to ping. It is probably because the website is blocking ICMP ping requests as a security measure.\n",
    "\n",
    "We can see this in the data where some entries have status='Failed' or status='Timeout'"
   ]
  },
  {
   "cell_type": "code",
   "execution_count": 25,
   "metadata": {},
   "outputs": [
    {
     "data": {
      "text/html": [
       "<div>\n",
       "<style scoped>\n",
       "    .dataframe tbody tr th:only-of-type {\n",
       "        vertical-align: middle;\n",
       "    }\n",
       "\n",
       "    .dataframe tbody tr th {\n",
       "        vertical-align: top;\n",
       "    }\n",
       "\n",
       "    .dataframe thead th {\n",
       "        text-align: right;\n",
       "    }\n",
       "</style>\n",
       "<table border=\"1\" class=\"dataframe\">\n",
       "  <thead>\n",
       "    <tr style=\"text-align: right;\">\n",
       "      <th></th>\n",
       "      <th>website</th>\n",
       "      <th>status</th>\n",
       "    </tr>\n",
       "  </thead>\n",
       "  <tbody>\n",
       "    <tr>\n",
       "      <th>7</th>\n",
       "      <td>apple.com</td>\n",
       "      <td>Timeout</td>\n",
       "    </tr>\n",
       "    <tr>\n",
       "      <th>8</th>\n",
       "      <td>linkedin.com</td>\n",
       "      <td>Timeout</td>\n",
       "    </tr>\n",
       "    <tr>\n",
       "      <th>9</th>\n",
       "      <td>netflix.com</td>\n",
       "      <td>Timeout</td>\n",
       "    </tr>\n",
       "    <tr>\n",
       "      <th>29</th>\n",
       "      <td>tokopedia.com</td>\n",
       "      <td>Timeout</td>\n",
       "    </tr>\n",
       "    <tr>\n",
       "      <th>34</th>\n",
       "      <td>detik.com</td>\n",
       "      <td>Timeout</td>\n",
       "    </tr>\n",
       "  </tbody>\n",
       "</table>\n",
       "</div>"
      ],
      "text/plain": [
       "          website   status\n",
       "7       apple.com  Timeout\n",
       "8    linkedin.com  Timeout\n",
       "9     netflix.com  Timeout\n",
       "29  tokopedia.com  Timeout\n",
       "34      detik.com  Timeout"
      ]
     },
     "execution_count": 25,
     "metadata": {},
     "output_type": "execute_result"
    }
   ],
   "source": [
    "df[df['status'] != 'Success'][['website', 'status']]"
   ]
  },
  {
   "cell_type": "markdown",
   "metadata": {},
   "source": [
    "Now we calculate the statistics for the successful pings so we can glance some insights."
   ]
  },
  {
   "cell_type": "code",
   "execution_count": 8,
   "metadata": {},
   "outputs": [],
   "source": [
    "# Calculate statistics for successful pings only\n",
    "df_stats = df[df['status'] == 'Success'].copy()\n",
    "df_stats['min_ms'] = df_stats['ping_times_ms'].apply(lambda x: min(x))\n",
    "df_stats['max_ms'] = df_stats['ping_times_ms'].apply(lambda x: max(x))\n",
    "df_stats['avg_ms'] = df_stats['ping_times_ms'].apply(lambda x: sum(x)/len(x))\n",
    "df_stats['p50_ms'] = df_stats['ping_times_ms'].apply(lambda x: sorted(x)[len(x)//2])\n",
    "df_stats['std_ms'] = df_stats['ping_times_ms'].apply(lambda x: pd.Series(x).std())"
   ]
  },
  {
   "cell_type": "markdown",
   "metadata": {},
   "source": [
    "And chart the results."
   ]
  },
  {
   "cell_type": "code",
   "execution_count": 16,
   "metadata": {},
   "outputs": [
    {
     "data": {
      "text/html": [
       "\n",
       "<style>\n",
       "  #altair-viz-eb6fc194aaaa43c897493dbf1f3c570d.vega-embed {\n",
       "    width: 100%;\n",
       "    display: flex;\n",
       "  }\n",
       "\n",
       "  #altair-viz-eb6fc194aaaa43c897493dbf1f3c570d.vega-embed details,\n",
       "  #altair-viz-eb6fc194aaaa43c897493dbf1f3c570d.vega-embed details summary {\n",
       "    position: relative;\n",
       "  }\n",
       "</style>\n",
       "<div id=\"altair-viz-eb6fc194aaaa43c897493dbf1f3c570d\"></div>\n",
       "<script type=\"text/javascript\">\n",
       "  var VEGA_DEBUG = (typeof VEGA_DEBUG == \"undefined\") ? {} : VEGA_DEBUG;\n",
       "  (function(spec, embedOpt){\n",
       "    let outputDiv = document.currentScript.previousElementSibling;\n",
       "    if (outputDiv.id !== \"altair-viz-eb6fc194aaaa43c897493dbf1f3c570d\") {\n",
       "      outputDiv = document.getElementById(\"altair-viz-eb6fc194aaaa43c897493dbf1f3c570d\");\n",
       "    }\n",
       "\n",
       "    const paths = {\n",
       "      \"vega\": \"https://cdn.jsdelivr.net/npm/vega@5?noext\",\n",
       "      \"vega-lib\": \"https://cdn.jsdelivr.net/npm/vega-lib?noext\",\n",
       "      \"vega-lite\": \"https://cdn.jsdelivr.net/npm/vega-lite@5.20.1?noext\",\n",
       "      \"vega-embed\": \"https://cdn.jsdelivr.net/npm/vega-embed@6?noext\",\n",
       "    };\n",
       "\n",
       "    function maybeLoadScript(lib, version) {\n",
       "      var key = `${lib.replace(\"-\", \"\")}_version`;\n",
       "      return (VEGA_DEBUG[key] == version) ?\n",
       "        Promise.resolve(paths[lib]) :\n",
       "        new Promise(function(resolve, reject) {\n",
       "          var s = document.createElement('script');\n",
       "          document.getElementsByTagName(\"head\")[0].appendChild(s);\n",
       "          s.async = true;\n",
       "          s.onload = () => {\n",
       "            VEGA_DEBUG[key] = version;\n",
       "            return resolve(paths[lib]);\n",
       "          };\n",
       "          s.onerror = () => reject(`Error loading script: ${paths[lib]}`);\n",
       "          s.src = paths[lib];\n",
       "        });\n",
       "    }\n",
       "\n",
       "    function showError(err) {\n",
       "      outputDiv.innerHTML = `<div class=\"error\" style=\"color:red;\">${err}</div>`;\n",
       "      throw err;\n",
       "    }\n",
       "\n",
       "    function displayChart(vegaEmbed) {\n",
       "      vegaEmbed(outputDiv, spec, embedOpt)\n",
       "        .catch(err => showError(`Javascript Error: ${err.message}<br>This usually means there's a typo in your chart specification. See the javascript console for the full traceback.`));\n",
       "    }\n",
       "\n",
       "    if(typeof define === \"function\" && define.amd) {\n",
       "      requirejs.config({paths});\n",
       "      let deps = [\"vega-embed\"];\n",
       "      require(deps, displayChart, err => showError(`Error loading script: ${err.message}`));\n",
       "    } else {\n",
       "      maybeLoadScript(\"vega\", \"5\")\n",
       "        .then(() => maybeLoadScript(\"vega-lite\", \"5.20.1\"))\n",
       "        .then(() => maybeLoadScript(\"vega-embed\", \"6\"))\n",
       "        .catch(showError)\n",
       "        .then(() => displayChart(vegaEmbed));\n",
       "    }\n",
       "  })({\"config\": {\"view\": {\"continuousWidth\": 300, \"continuousHeight\": 300}}, \"data\": {\"name\": \"data-0c3dfe8d0bef270601d04917cce5110f\"}, \"mark\": {\"type\": \"bar\"}, \"encoding\": {\"tooltip\": [{\"field\": \"website\", \"type\": \"nominal\"}, {\"field\": \"avg_ms\", \"type\": \"quantitative\"}, {\"field\": \"min_ms\", \"type\": \"quantitative\"}, {\"field\": \"max_ms\", \"type\": \"quantitative\"}], \"x\": {\"field\": \"avg_ms\", \"title\": \"Average Ping Time (ms)\", \"type\": \"quantitative\"}, \"y\": {\"field\": \"website\", \"sort\": \"x\", \"type\": \"nominal\"}}, \"height\": 400, \"title\": \"Average Ping Time by Website - lower is better\", \"width\": 800, \"$schema\": \"https://vega.github.io/schema/vega-lite/v5.20.1.json\", \"datasets\": {\"data-0c3dfe8d0bef270601d04917cce5110f\": [{\"website\": \"instagram.com\", \"ip_address\": \"157.240.208.174\", \"status\": \"Success\", \"ping_times_ms\": [3.37, 1.12, 0.927, 1.72, 0.919, 1.07, 1.02, 1.04, 1.52, 0.899], \"min_ms\": 0.899, \"max_ms\": 3.37, \"avg_ms\": 1.3605, \"p50_ms\": 1.07, \"std_ms\": 0.7564161479561954}, {\"website\": \"facebook.com\", \"ip_address\": \"157.240.208.35\", \"status\": \"Success\", \"ping_times_ms\": [4.3, 1.13, 1.01, 1.72, 0.951, 1.3, 1.24, 1.23, 1.36, 0.889], \"min_ms\": 0.889, \"max_ms\": 4.3, \"avg_ms\": 1.513, \"p50_ms\": 1.24, \"std_ms\": 1.0076668320652638}, {\"website\": \"youtube.com\", \"ip_address\": \"142.251.10.93\", \"status\": \"Success\", \"ping_times_ms\": [13.5, 12.7, 12.4, 12.9, 12.5, 12.5, 14.0, 12.8, 12.4, 12.4], \"min_ms\": 12.4, \"max_ms\": 14.0, \"avg_ms\": 12.809999999999999, \"p50_ms\": 12.7, \"std_ms\": 0.5384133067531752}, {\"website\": \"google.com\", \"ip_address\": \"74.125.200.113\", \"status\": \"Success\", \"ping_times_ms\": [14.0, 13.5, 13.2, 13.7, 13.2, 13.4, 13.7, 13.6, 14.3, 13.3], \"min_ms\": 13.2, \"max_ms\": 14.3, \"avg_ms\": 13.59, \"p50_ms\": 13.6, \"std_ms\": 0.35418137224372004}, {\"website\": \"twitter.com\", \"ip_address\": \"104.244.42.129\", \"status\": \"Success\", \"ping_times_ms\": [72.9, 71.7, 71.2, 71.1, 71.3, 71.3, 71.3, 71.4, 71.3, 71.2], \"min_ms\": 71.1, \"max_ms\": 72.9, \"avg_ms\": 71.47, \"p50_ms\": 71.3, \"std_ms\": 0.5271516754112533}, {\"website\": \"microsoft.com\", \"ip_address\": \"20.112.250.133\", \"status\": \"Success\", \"ping_times_ms\": [192.0, 191.0, 191.0, 191.0, 191.0, 191.0, 191.0, 191.0, 191.0, 191.0], \"min_ms\": 191.0, \"max_ms\": 192.0, \"avg_ms\": 191.1, \"p50_ms\": 191.0, \"std_ms\": 0.31622776601683794}, {\"website\": \"amazon.com\", \"ip_address\": \"54.239.28.85\", \"status\": \"Success\", \"ping_times_ms\": [224.0, 223.0, 223.0, 223.0, 223.0, 223.0, 223.0, 223.0, 223.0, 223.0], \"min_ms\": 223.0, \"max_ms\": 224.0, \"avg_ms\": 223.1, \"p50_ms\": 223.0, \"std_ms\": 0.31622776601683794}, {\"website\": \"reddit.com\", \"ip_address\": \"151.101.1.140\", \"status\": \"Success\", \"ping_times_ms\": [14.3, 12.1, 12.2, 11.9, 12.0, 12.0, 11.8, 12.1, 11.9, 11.9], \"min_ms\": 11.8, \"max_ms\": 14.3, \"avg_ms\": 12.22, \"p50_ms\": 12.0, \"std_ms\": 0.7405703507732703}, {\"website\": \"wikipedia.org\", \"ip_address\": \"103.102.166.224\", \"status\": \"Success\", \"ping_times_ms\": [13.0, 12.9, 13.1, 12.9, 12.9, 12.9, 12.8, 13.0, 12.9, 12.8], \"min_ms\": 12.8, \"max_ms\": 13.1, \"avg_ms\": 12.919999999999998, \"p50_ms\": 12.9, \"std_ms\": 0.09189365834726781}, {\"website\": \"github.com\", \"ip_address\": \"20.205.243.166\", \"status\": \"Success\", \"ping_times_ms\": [13.1, 13.0, 13.0, 13.0, 13.0, 13.2, 13.1, 13.0, 13.1, 13.0], \"min_ms\": 13.0, \"max_ms\": 13.2, \"avg_ms\": 13.05, \"p50_ms\": 13.0, \"std_ms\": 0.0707106781186545}, {\"website\": \"twitch.tv\", \"ip_address\": \"151.101.194.167\", \"status\": \"Success\", \"ping_times_ms\": [12.0, 11.8, 12.0, 12.0, 11.9, 12.1, 11.9, 11.9, 11.9, 12.1], \"min_ms\": 11.8, \"max_ms\": 12.1, \"avg_ms\": 11.959999999999999, \"p50_ms\": 12.0, \"std_ms\": 0.09660917830792924}, {\"website\": \"tiktok.com\", \"ip_address\": \"23.214.169.21\", \"status\": \"Success\", \"ping_times_ms\": [1.4, 0.931, 1.17, 1.0, 0.966, 1.25, 0.963, 1.28, 0.99, 1.91], \"min_ms\": 0.931, \"max_ms\": 1.91, \"avg_ms\": 1.186, \"p50_ms\": 1.17, \"std_ms\": 0.3017220943554221}, {\"website\": \"spotify.com\", \"ip_address\": \"35.186.224.24\", \"status\": \"Success\", \"ping_times_ms\": [1.54, 1.49, 2.08, 1.6, 1.5, 1.46, 1.4, 1.46, 1.57, 2.22], \"min_ms\": 1.4, \"max_ms\": 2.22, \"avg_ms\": 1.6320000000000001, \"p50_ms\": 1.54, \"std_ms\": 0.28094285698143123}, {\"website\": \"yahoo.com\", \"ip_address\": \"74.6.143.26\", \"status\": \"Success\", \"ping_times_ms\": [231.0, 230.0, 231.0, 230.0, 230.0, 235.0, 231.0, 231.0], \"min_ms\": 230.0, \"max_ms\": 235.0, \"avg_ms\": 231.125, \"p50_ms\": 231.0, \"std_ms\": 1.6420805617960927}, {\"website\": \"whatsapp.com\", \"ip_address\": \"157.240.208.60\", \"status\": \"Success\", \"ping_times_ms\": [1.69, 1.5, 1.53, 1.61, 1.58, 1.44, 1.44, 4.07, 1.68, 1.5], \"min_ms\": 1.44, \"max_ms\": 4.07, \"avg_ms\": 1.8039999999999998, \"p50_ms\": 1.58, \"std_ms\": 0.80109924478806}, {\"website\": \"zoom.us\", \"ip_address\": \"170.114.52.2\", \"status\": \"Success\", \"ping_times_ms\": [12.1, 12.1, 11.9, 12.1, 12.1, 12.0, 12.2, 14.6, 12.4, 12.0], \"min_ms\": 11.9, \"max_ms\": 14.6, \"avg_ms\": 12.35, \"p50_ms\": 12.1, \"std_ms\": 0.8017342313870461}, {\"website\": \"discord.com\", \"ip_address\": \"162.159.135.232\", \"status\": \"Success\", \"ping_times_ms\": [1.24, 1.17, 1.27, 1.15, 1.12, 1.22, 1.29, 3.4, 1.4, 1.15], \"min_ms\": 1.12, \"max_ms\": 3.4, \"avg_ms\": 1.441, \"p50_ms\": 1.24, \"std_ms\": 0.6933405448342906}, {\"website\": \"dropbox.com\", \"ip_address\": \"162.125.248.18\", \"status\": \"Success\", \"ping_times_ms\": [13.7, 11.8, 11.7, 12.0, 12.7, 11.9, 11.6, 11.8, 11.8, 12.0], \"min_ms\": 11.6, \"max_ms\": 13.7, \"avg_ms\": 12.1, \"p50_ms\": 11.9, \"std_ms\": 0.637704215656966}, {\"website\": \"pinterest.com\", \"ip_address\": \"151.101.0.84\", \"status\": \"Success\", \"ping_times_ms\": [12.5, 11.8, 11.8, 11.9, 17.5, 12.1, 11.9, 11.9, 12.0, 14.0], \"min_ms\": 11.8, \"max_ms\": 17.5, \"avg_ms\": 12.74, \"p50_ms\": 12.0, \"std_ms\": 1.7995061050805639}, {\"website\": \"salesforce.com\", \"ip_address\": \"104.109.11.129\", \"status\": \"Success\", \"ping_times_ms\": [56.3, 55.7, 55.8, 56.9, 62.0, 55.8, 55.9, 57.6, 55.7, 58.3], \"min_ms\": 55.7, \"max_ms\": 62.0, \"avg_ms\": 57.0, \"p50_ms\": 56.3, \"std_ms\": 1.9725899500684654}, {\"website\": \"shopee.co.id\", \"ip_address\": \"147.136.140.126\", \"status\": \"Success\", \"ping_times_ms\": [13.7, 12.6, 12.8, 13.8, 18.6, 12.8, 12.6, 14.6, 12.7, 15.1], \"min_ms\": 12.6, \"max_ms\": 18.6, \"avg_ms\": 13.930000000000001, \"p50_ms\": 13.7, \"std_ms\": 1.8649098876055352}, {\"website\": \"zalora.co.id\", \"ip_address\": \"13.35.238.30\", \"status\": \"Success\", \"ping_times_ms\": [13.8, 12.3, 12.3, 13.3, 19.0, 12.6, 12.4, 12.5, 12.5, 17.4], \"min_ms\": 12.3, \"max_ms\": 19.0, \"avg_ms\": 13.809999999999999, \"p50_ms\": 12.6, \"std_ms\": 2.3927900961940733}, {\"website\": \"lazada.co.id\", \"ip_address\": \"47.246.159.91\", \"status\": \"Success\", \"ping_times_ms\": [1.71, 2.96, 2.4, 3.44, 1.83, 1.78, 2.27, 1.59, 1.8, 1.96], \"min_ms\": 1.59, \"max_ms\": 3.44, \"avg_ms\": 2.174, \"p50_ms\": 1.96, \"std_ms\": 0.6052033634334091}, {\"website\": \"blibli.com\", \"ip_address\": \"104.18.5.182\", \"status\": \"Success\", \"ping_times_ms\": [1.21, 3.07, 1.72, 1.25, 1.23, 1.18, 2.46, 1.18, 1.15, 1.37], \"min_ms\": 1.15, \"max_ms\": 3.07, \"avg_ms\": 1.582, \"p50_ms\": 1.25, \"std_ms\": 0.6609219150382122}, {\"website\": \"kompas.com\", \"ip_address\": \"3.171.198.81\", \"status\": \"Success\", \"ping_times_ms\": [12.7, 13.4, 13.1, 13.2, 12.5, 12.6, 14.0, 12.4, 12.4, 12.4], \"min_ms\": 12.4, \"max_ms\": 14.0, \"avg_ms\": 12.87, \"p50_ms\": 12.7, \"std_ms\": 0.5396500923952688}, {\"website\": \"bukalapak.com\", \"ip_address\": \"45.60.251.175\", \"status\": \"Success\", \"ping_times_ms\": [187.0, 187.0, 188.0, 192.0, 187.0, 187.0, 187.0, 187.0, 187.0, 187.0], \"min_ms\": 187.0, \"max_ms\": 192.0, \"avg_ms\": 187.6, \"p50_ms\": 187.0, \"std_ms\": 1.5776212754932308}, {\"website\": \"cnbcindonesia.com\", \"ip_address\": \"104.18.31.159\", \"status\": \"Success\", \"ping_times_ms\": [3.78, 2.27, 4.1, 1.21, 1.27, 1.24, 1.21, 1.5, 1.27, 1.32], \"min_ms\": 1.21, \"max_ms\": 4.1, \"avg_ms\": 1.9169999999999998, \"p50_ms\": 1.32, \"std_ms\": 1.1148696984152204}, {\"website\": \"okezone.com\", \"ip_address\": \"104.18.30.212\", \"status\": \"Success\", \"ping_times_ms\": [4.97, 1.13, 2.69, 1.14, 1.2, 1.64, 1.16, 1.21, 1.21, 1.16], \"min_ms\": 1.13, \"max_ms\": 4.97, \"avg_ms\": 1.751, \"p50_ms\": 1.21, \"std_ms\": 1.2293851218303307}, {\"website\": \"liputan6.com\", \"ip_address\": \"35.190.21.225\", \"status\": \"Success\", \"ping_times_ms\": [6.21, 1.69, 2.18, 1.67, 1.5, 2.37, 1.81, 1.51, 1.51, 1.47], \"min_ms\": 1.47, \"max_ms\": 6.21, \"avg_ms\": 2.192, \"p50_ms\": 1.69, \"std_ms\": 1.4444129911105372}, {\"website\": \"tribunnews.com\", \"ip_address\": \"13.225.4.50\", \"status\": \"Success\", \"ping_times_ms\": [17.7, 15.7, 13.4, 12.9, 13.7, 13.0, 12.9, 12.9, 12.7, 12.8], \"min_ms\": 12.7, \"max_ms\": 17.7, \"avg_ms\": 13.77, \"p50_ms\": 13.0, \"std_ms\": 1.6418485516839445}]}}, {\"mode\": \"vega-lite\"});\n",
       "</script>"
      ],
      "text/plain": [
       "alt.Chart(...)"
      ]
     },
     "execution_count": 16,
     "metadata": {},
     "output_type": "execute_result"
    }
   ],
   "source": [
    "import altair as alt\n",
    "chart = alt.Chart(df_stats).mark_bar().encode(\n",
    "    y=alt.Y('website:N', sort='x'),\n",
    "    x=alt.X('avg_ms:Q', title='Average Ping Time (ms)'),\n",
    "    tooltip=['website', 'avg_ms', 'min_ms', 'max_ms']\n",
    ").properties(\n",
    "    width=800,\n",
    "    height=400,\n",
    "    title='Average Ping Time by Website - lower is better'\n",
    ")\n",
    "chart"
   ]
  },
  {
   "cell_type": "markdown",
   "metadata": {},
   "source": [
    "It is interesting to see that the ping latency of various websites fall under 3 ranges.\n",
    "\n",
    "1. Under 1-3 ms\n",
    "2. 10-15 ms\n",
    "3. 180++ ms\n",
    "\n",
    "I am not sure why the case. There is no pattern that I can see. Whether it is international vs Indonesian websites, or the type of websites (news, e-commerce, etc).\n"
   ]
  }
 ],
 "metadata": {
  "kernelspec": {
   "display_name": "Python 3",
   "language": "python",
   "name": "python3"
  },
  "language_info": {
   "codemirror_mode": {
    "name": "ipython",
    "version": 3
   },
   "file_extension": ".py",
   "mimetype": "text/x-python",
   "name": "python",
   "nbconvert_exporter": "python",
   "pygments_lexer": "ipython3",
   "version": "3.12.3"
  }
 },
 "nbformat": 4,
 "nbformat_minor": 2
}
